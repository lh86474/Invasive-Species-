{
 "cells": [
  {
   "cell_type": "code",
   "execution_count": null,
   "id": "307c8316-a1d4-475c-9e81-58fa7baf7212",
   "metadata": {
    "tags": []
   },
   "outputs": [],
   "source": [
    "!pip install tensorflow "
   ]
  },
  {
   "cell_type": "code",
   "execution_count": null,
   "id": "f31d93e4-fae6-47bb-a6ad-706bc0adbba8",
   "metadata": {
    "tags": []
   },
   "outputs": [],
   "source": [
    "#Removes dodgy images Use !pip list to check our dependecies \n",
    "!pip install opencv-python"
   ]
  },
  {
   "cell_type": "code",
   "execution_count": 7,
   "id": "abe8688a-992b-43c1-ab20-52055cd4d37a",
   "metadata": {
    "tags": []
   },
   "outputs": [],
   "source": [
    "#Import Libraries/dependencies. Os is used to naviagate through file structures\n",
    "import matplotlib as plt\n",
    "import tensorflow as tf\n",
    "import os"
   ]
  },
  {
   "cell_type": "code",
   "execution_count": 12,
   "id": "49952c51-f6a2-4c04-ba28-d5e8bf58dc01",
   "metadata": {
    "tags": []
   },
   "outputs": [],
   "source": [
    "#Make sure tensorflow doesn't use all of the memory, avoid out of memory error. \n",
    "gpus = tf.config.experimental.list_physical_devices('GPU')\n",
    "for gpu in gpus:\n",
    "    tf.config.experimental.se_memory_growth(gpu, True)"
   ]
  },
  {
   "cell_type": "code",
   "execution_count": 14,
   "id": "3a7bd8d1-f066-46d2-92da-1ae9cdf851a2",
   "metadata": {
    "tags": []
   },
   "outputs": [],
   "source": [
    "#Still need data for our program here, but here's the program that's going to remove dodgy images.\n",
    "#Remove corrupted images from google. \n",
    "import cv2\n",
    "import imghdr"
   ]
  },
  {
   "cell_type": "code",
   "execution_count": null,
   "id": "cc8d4def-83a3-445b-97ef-69671763bffa",
   "metadata": {},
   "outputs": [],
   "source": []
  },
  {
   "cell_type": "code",
   "execution_count": null,
   "id": "1747dd86-fbf5-4063-b5ea-dc335ca04605",
   "metadata": {},
   "outputs": [],
   "source": [
    "#Our Data Pipeline\n"
   ]
  },
  {
   "cell_type": "code",
   "execution_count": null,
   "id": "23eadc28-9187-475b-b3ff-bfbbdf579397",
   "metadata": {},
   "outputs": [],
   "source": [
    "#Preprocessing Images for DL"
   ]
  },
  {
   "cell_type": "code",
   "execution_count": null,
   "id": "352dcc3c-e633-486d-953e-49c33477aa5a",
   "metadata": {},
   "outputs": [],
   "source": [
    "# Creating a Deep Classifier"
   ]
  },
  {
   "cell_type": "code",
   "execution_count": null,
   "id": "2fd076f0-c136-477e-ae89-7b478f65daa0",
   "metadata": {},
   "outputs": [],
   "source": [
    "# Evaluating Model Perforamnce\n"
   ]
  },
  {
   "cell_type": "code",
   "execution_count": null,
   "id": "43e3bd96-76bb-461a-a3ca-d6ec22a71f2a",
   "metadata": {},
   "outputs": [],
   "source": [
    "#Saving Model for Deployment"
   ]
  }
 ],
 "metadata": {
  "kernelspec": {
   "display_name": "Python 3 (ipykernel)",
   "language": "python",
   "name": "python3"
  },
  "language_info": {
   "codemirror_mode": {
    "name": "ipython",
    "version": 3
   },
   "file_extension": ".py",
   "mimetype": "text/x-python",
   "name": "python",
   "nbconvert_exporter": "python",
   "pygments_lexer": "ipython3",
   "version": "3.11.5"
  }
 },
 "nbformat": 4,
 "nbformat_minor": 5
}
